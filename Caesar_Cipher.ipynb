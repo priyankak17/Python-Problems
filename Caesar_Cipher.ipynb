{
  "nbformat": 4,
  "nbformat_minor": 0,
  "metadata": {
    "colab": {
      "provenance": [],
      "authorship_tag": "ABX9TyOJe+xMfTMmG1Bna5v8N1sr",
      "include_colab_link": true
    },
    "kernelspec": {
      "name": "python3",
      "display_name": "Python 3"
    },
    "language_info": {
      "name": "python"
    }
  },
  "cells": [
    {
      "cell_type": "markdown",
      "metadata": {
        "id": "view-in-github",
        "colab_type": "text"
      },
      "source": [
        "<a href=\"https://colab.research.google.com/github/priyankak17/Python-code-snippets/blob/main/Caesar_Cipher.ipynb\" target=\"_parent\"><img src=\"https://colab.research.google.com/assets/colab-badge.svg\" alt=\"Open In Colab\"/></a>"
      ]
    },
    {
      "cell_type": "markdown",
      "source": [
        "A Caesar cipher is a simple substitution cipher in which each letter of the plain text is substituted with a letter found by moving n places down the alphabet. For example, assume the input plain text is the following:\n",
        "\n",
        "abcd xyz\n",
        "\n",
        "\n",
        "If the shift value, n, is 4, then the encrypted text would be the following:\n",
        "\n",
        "efgh bcd"
      ],
      "metadata": {
        "id": "g4YSQKW_Re1s"
      }
    },
    {
      "cell_type": "code",
      "execution_count": 10,
      "metadata": {
        "id": "4I2U2CVCPlVM",
        "colab": {
          "base_uri": "https://localhost:8080/",
          "height": 72
        },
        "outputId": "5bcf6de7-60e2-4ba9-cc61-4d611ec34114"
      },
      "outputs": [
        {
          "name": "stdout",
          "output_type": "stream",
          "text": [
            "Enter message that you intend to send secretly:hello\n",
            "Enter encryption key:1\n"
          ]
        },
        {
          "output_type": "execute_result",
          "data": {
            "text/plain": [
              "'ifmmp'"
            ],
            "application/vnd.google.colaboratory.intrinsic+json": {
              "type": "string"
            }
          },
          "metadata": {},
          "execution_count": 10
        }
      ],
      "source": [
        "\n",
        "import string\n",
        "#translate function being used\n",
        "\n",
        "def encryption(message, key):\n",
        "    \n",
        "    \n",
        "    alphabet = string.ascii_lowercase    #[a--z]\n",
        "    str_list = message[key:] + message[:key]     #[b-z]+[a] #suppose key = 1\n",
        "    encrypt_tble = str.maketrans(alphabet, str_list)  #a---b,c--d, e--f\n",
        "    \n",
        "    return message.translate(encrypt_tble)   \n",
        "\n",
        "message= input('Enter message that you intend to send secretly:')\n",
        "\n",
        "key = int(input('Enter encryption key:')) \n",
        "encryption(message, key)"
      ]
    }
  ]
}