{
  "nbformat": 4,
  "nbformat_minor": 0,
  "metadata": {
    "colab": {
      "name": "GPA To Marks",
      "provenance": []
    },
    "kernelspec": {
      "name": "python3",
      "display_name": "Python 3"
    },
    "language_info": {
      "name": "python"
    }
  },
  "cells": [
    {
      "cell_type": "code",
      "execution_count": 11,
      "metadata": {
        "colab": {
          "base_uri": "https://localhost:8080/"
        },
        "id": "rnsdZt888Rp-",
        "outputId": "6e20c7c1-32c4-414a-b1d1-63b9657dab75"
      },
      "outputs": [
        {
          "output_type": "stream",
          "name": "stdout",
          "text": [
            "A\n",
            "Your GPA is 4.0\n"
          ]
        }
      ],
      "source": [
        "\n",
        "\n",
        "GPA_to_pointer ={ 'A+' :4.0, 'A' :4.0, 'A-' :3.67, 'B+':3.33, 'B' :3.0, 'B-' :2.67,\n",
        "                 'C+' :2.33, 'C' :2.0, 'C-' :1.67, 'D+' :1.33, 'D' :1.0, 'F' :0.0}\n",
        "num_courses = 0\n",
        "total_points = 0\n",
        "GPA = input()\n",
        "\n",
        "if GPA not in GPA_to_pointer: # unrecognized grade entered \n",
        "    print(\"Unknown GPA {0} being ignored\".format(GPA))\n",
        "else:\n",
        "    num_courses += 1\n",
        "    total_points += GPA_to_pointer[GPA]\n",
        "if num_courses > 0: # avoid division by zero\n",
        "    print( 'Your GPA is {0:.3}' .format(total_points / num_courses))\n"
      ]
    }
  ]
}