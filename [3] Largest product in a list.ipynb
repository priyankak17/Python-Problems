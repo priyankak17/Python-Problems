{
  "nbformat": 4,
  "nbformat_minor": 0,
  "metadata": {
    "colab": {
      "provenance": [],
      "authorship_tag": "ABX9TyNuPBY3E5VnX8zZoTRWLwjD",
      "include_colab_link": true
    },
    "kernelspec": {
      "name": "python3",
      "display_name": "Python 3"
    },
    "language_info": {
      "name": "python"
    }
  },
  "cells": [
    {
      "cell_type": "markdown",
      "metadata": {
        "id": "view-in-github",
        "colab_type": "text"
      },
      "source": [
        "<a href=\"https://colab.research.google.com/github/priyankak17/Python-code-snippets/blob/main/Largest_product_in_a_list.ipynb\" target=\"_parent\"><img src=\"https://colab.research.google.com/assets/colab-badge.svg\" alt=\"Open In Colab\"/></a>"
      ]
    },
    {
      "cell_type": "markdown",
      "source": [
        "#Given an array of integers, find the pair of adjacent elements that has the largest product and return that product.\n",
        "\n",
        "Algorithm:\n",
        "\n",
        "\n",
        "1.   declare an empty list as global var\n",
        "\n",
        "1.   create a max_value var and assign it the lowest possible value\n",
        "\n",
        "1.   create a loop that will run the length of list\n",
        "\n",
        "2.   create another loop inside previous loop that will iterate from 2nd element to the length of the list\n",
        "\n",
        "2.   create a current var that holds the product of 1st loop element and 2nd loop element\n",
        "\n",
        "2.   if current var is greater than max_value var. assign current to max var\n",
        "\n",
        "3.   return max var\n",
        "\n"
      ],
      "metadata": {
        "id": "1vOXudZJk8Ph"
      }
    },
    {
      "cell_type": "code",
      "source": [
        "#Brute force approach\n",
        "\n",
        "lis =[]\n",
        "def find_max_prod(lis):\n",
        " max = -99999\n",
        " for i in range(0, n):\n",
        "    for j in range(i+1, n):\n",
        "      curr = lis[i]*lis[j]\n",
        "      if curr > max:\n",
        "        max = curr\n",
        " return max\n",
        "\n",
        "\n",
        "    \n",
        "\n",
        "\n",
        "\n",
        "\n",
        "\n",
        "n= int(input('Enter the length of list:'))\n",
        "for j in range(n):\n",
        "  inpt = int(input('enter the elements:'))\n",
        "  lis.append(inpt)\n",
        "\n",
        "\n",
        "find_max_prod(lis)\n",
        "\n"
      ],
      "metadata": {
        "colab": {
          "base_uri": "https://localhost:8080/"
        },
        "id": "0d2YfXBaXWRv",
        "outputId": "e301416a-af77-491b-f5e0-b4d3c046035c"
      },
      "execution_count": null,
      "outputs": [
        {
          "name": "stdout",
          "output_type": "stream",
          "text": [
            "Enter the length of list:5\n",
            "enter the elements:1\n",
            "enter the elements:43\n",
            "enter the elements:9\n",
            "enter the elements:0\n",
            "enter the elements:10\n"
          ]
        },
        {
          "output_type": "execute_result",
          "data": {
            "text/plain": [
              "430"
            ]
          },
          "metadata": {},
          "execution_count": 20
        }
      ]
    }
  ]
}
